{
 "cells": [
  {
   "cell_type": "code",
   "execution_count": null,
   "id": "a4fb28d1",
   "metadata": {},
   "outputs": [],
   "source": [
    "# Program to add two integers\n",
    "\n",
    "# Taking input from the user\n",
    "num1 = int(input(\"Enter first integer: \"))\n",
    "num2 = int(input(\"Enter second integer: \"))\n",
    "\n",
    "# Adding the two numbers\n",
    "sum_result = num1 + num2\n",
    "\n",
    "# Displaying the result\n",
    "print(\"The sum of\", num1, \"and\", num2, \"is:\", sum_result)\n"
   ]
  }
 ],
 "metadata": {
  "language_info": {
   "name": "python"
  }
 },
 "nbformat": 4,
 "nbformat_minor": 5
}
