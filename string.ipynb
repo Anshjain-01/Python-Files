{
 "cells": [
  {
   "cell_type": "code",
   "execution_count": null,
   "id": "5116f62b",
   "metadata": {},
   "outputs": [],
   "source": [
    "print(\"hello\")\n",
    "a=\"hello\"\n",
    "print(len(a))\n",
    "b=\"hello,world\"\n",
    "print(b[2:5])\n",
    "print(b[:5])\n",
    "print(b[2:])"
   ]
  }
 ],
 "metadata": {
  "language_info": {
   "name": "python"
  }
 },
 "nbformat": 4,
 "nbformat_minor": 5
}
