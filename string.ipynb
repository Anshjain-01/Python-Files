{
 "cells": [
  {
   "cell_type": "code",
   "execution_count": 1,
   "id": "5116f62b",
   "metadata": {},
   "outputs": [
    {
     "name": "stdout",
     "output_type": "stream",
     "text": [
      "hello\n",
      "5\n",
      "llo\n",
      "hello\n",
      "llo,world\n"
     ]
    }
   ],
   "source": [
    "print(\"hello\")\n",
    "a=\"hello\"\n",
    "print(len(a))\n",
    "b=\"hello,world\"\n",
    "print(b[2:5])\n",
    "print(b[:5])\n",
    "print(b[2:])"
   ]
  }
 ],
 "metadata": {
  "kernelspec": {
   "display_name": "Python 3",
   "language": "python",
   "name": "python3"
  },
  "language_info": {
   "codemirror_mode": {
    "name": "ipython",
    "version": 3
   },
   "file_extension": ".py",
   "mimetype": "text/x-python",
   "name": "python",
   "nbconvert_exporter": "python",
   "pygments_lexer": "ipython3",
   "version": "3.13.7"
  }
 },
 "nbformat": 4,
 "nbformat_minor": 5
}
