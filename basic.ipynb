{
 "cells": [
  {
   "cell_type": "code",
   "execution_count": null,
   "id": "afd30a19",
   "metadata": {},
   "outputs": [],
   "source": [
    "a = \"hello world !\"\n",
    "print(a.replace(\"h\",\"j\"))\n",
    "\n",
    "# concatenation of string\n",
    "a = \"Hello\"\n",
    "b = \"world\"\n",
    "c = a + b\n",
    "print(c)\n",
    "\n",
    "# format string\n",
    "\n",
    "mark = 36 \n",
    "txt = f\"My name is Anuj Yadav  ,y score is {mark}\"\n",
    "print(txt )\n",
    "\n",
    "\n",
    "# python booleans\n",
    "\n",
    "print(bool(\"hello\"))\n",
    "print(bool(15))\n",
    "\n",
    "print()"
   ]
  }
 ],
 "metadata": {
  "language_info": {
   "name": "python"
  }
 },
 "nbformat": 4,
 "nbformat_minor": 5
}
