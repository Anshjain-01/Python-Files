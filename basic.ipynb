{
 "cells": [
  {
   "cell_type": "code",
   "execution_count": null,
   "id": "afd30a19",
   "metadata": {},
   "outputs": [
    {
     "name": "stdout",
     "output_type": "stream",
     "text": [
      "jello world !\n",
      "Helloworld\n",
      "My name is Anuj Yadav  ,y score is 36\n",
      "True\n",
      "True\n",
      "\n"
     ]
    }
   ],
   "source": [
    "a = \"hello world !\"\n",
    "print(a.replace(\"h\",\"j\"))\n",
    "\n",
    "# concatenation of string\n",
    "a = \"Hello\"\n",
    "b = \"world\"\n",
    "c = a + b\n",
    "print(c)\n",
    "\n",
    "# format string\n",
    "\n",
    "mark = 36 \n",
    "txt = f\"My name is Anuj Yadav  ,y score is {mark}\"\n",
    "print(txt )\n",
    "\n",
    "\n",
    "# python booleans\n",
    "\n",
    "print(bool(\"hello\"))\n",
    "print(bool(15))\n",
    "\n",
    "print()"
   ]
  }
 ],
 "metadata": {
  "kernelspec": {
   "display_name": "Python 3",
   "language": "python",
   "name": "python3"
  },
  "language_info": {
   "codemirror_mode": {
    "name": "ipython",
    "version": 3
   },
   "file_extension": ".py",
   "mimetype": "text/x-python",
   "name": "python",
   "nbconvert_exporter": "python",
   "pygments_lexer": "ipython3",
   "version": "3.13.7"
  }
 },
 "nbformat": 4,
 "nbformat_minor": 5
}
